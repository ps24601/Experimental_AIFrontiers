{
 "cells": [
  {
   "cell_type": "markdown",
   "metadata": {
    "id": "tDEnfPD1LOed"
   },
   "source": [
    "# Importing libraries"
   ]
  },
  {
   "cell_type": "code",
   "execution_count": 1,
   "metadata": {
    "colab": {
     "base_uri": "https://localhost:8080/"
    },
    "id": "8mVRUQreMkgc",
    "outputId": "839b97f0-31cc-4263-ae8e-c81a65e4f3de"
   },
   "outputs": [
    {
     "name": "stdout",
     "output_type": "stream",
     "text": [
      "Collecting rpy2==2.9.6b\n",
      "  Downloading rpy2-2.9.6b0.tar.gz (194 kB)\n",
      "\u001b[K     |████████████████████████████████| 194 kB 5.6 MB/s \n",
      "\u001b[?25hRequirement already satisfied: six in /usr/local/lib/python3.7/dist-packages (from rpy2==2.9.6b) (1.15.0)\n",
      "Requirement already satisfied: jinja2 in /usr/local/lib/python3.7/dist-packages (from rpy2==2.9.6b) (2.11.3)\n",
      "Requirement already satisfied: MarkupSafe>=0.23 in /usr/local/lib/python3.7/dist-packages (from jinja2->rpy2==2.9.6b) (2.0.1)\n",
      "Building wheels for collected packages: rpy2\n",
      "  Building wheel for rpy2 (setup.py) ... \u001b[?25l\u001b[?25hdone\n",
      "  Created wheel for rpy2: filename=rpy2-2.9.6b0-cp37-cp37m-linux_x86_64.whl size=318401 sha256=bf03453bbe2daa4438f89532ebbb9e8d500b16eb9ca39bf75407a87172e5af2b\n",
      "  Stored in directory: /root/.cache/pip/wheels/95/f5/ca/0ac73de2f1358e0964d50de50ce75d8d096156f829836076d6\n",
      "Successfully built rpy2\n",
      "Installing collected packages: rpy2\n",
      "  Attempting uninstall: rpy2\n",
      "    Found existing installation: rpy2 3.4.5\n",
      "    Uninstalling rpy2-3.4.5:\n",
      "      Successfully uninstalled rpy2-3.4.5\n",
      "Successfully installed rpy2-2.9.6b0\n"
     ]
    }
   ],
   "source": [
    "!pip install rpy2==2.9.6b"
   ]
  },
  {
   "cell_type": "code",
   "execution_count": 2,
   "metadata": {
    "colab": {
     "base_uri": "https://localhost:8080/"
    },
    "id": "3gGjI1cMNsCX",
    "outputId": "c5fbf2d7-52d1-4240-bcdf-33a702332e0d"
   },
   "outputs": [
    {
     "name": "stderr",
     "output_type": "stream",
     "text": [
      "/usr/local/lib/python3.7/dist-packages/rpy2/robjects/pandas2ri.py:17: FutureWarning: pandas.core.index is deprecated and will be removed in a future version.  The public classes are available in the top-level namespace.\n",
      "  from pandas.core.index import Index as PandasIndex\n"
     ]
    }
   ],
   "source": [
    "%load_ext rpy2.ipython\n"
   ]
  },
  {
   "cell_type": "code",
   "execution_count": null,
   "metadata": {
    "colab": {
     "base_uri": "https://localhost:8080/"
    },
    "id": "M2WB2i7qbusi",
    "outputId": "18a01909-b033-4dc7-9a97-857a1f8a2f17"
   },
   "outputs": [],
   "source": [
    "%%R\n",
    "install.packages(\"grf\")"
   ]
  },
  {
   "cell_type": "code",
   "execution_count": null,
   "metadata": {
    "colab": {
     "base_uri": "https://localhost:8080/"
    },
    "id": "lPzAPlfebvbX",
    "outputId": "d0d5e9da-4d93-4332-e0eb-f5c5b621e9f6"
   },
   "outputs": [],
   "source": [
    "#!pip install justcause #==0.3.2  Note the version of JustCause we are using in case you are looking into the documentation\n",
    "!git clone https://github.com/solalatus/justcause.git\n",
    "%cd justcause/\n",
    "!git checkout keras_hack\n",
    "!pip install git+file:///content/justcause"
   ]
  },
  {
   "cell_type": "code",
   "execution_count": null,
   "metadata": {
    "id": "w7a2XMQx5i1W"
   },
   "outputs": [],
   "source": [
    "import os\n",
    "os.kill(os.getpid(), 9)\n"
   ]
  },
  {
   "cell_type": "code",
   "execution_count": 1,
   "metadata": {
    "id": "b4UpBS6mNOCW"
   },
   "outputs": [],
   "source": [
    "from justcause.data import Col\n",
    "from justcause.data.sets import load_ihdp\n",
    "from justcause.metrics import pehe_score, mean_absolute\n",
    "from justcause.evaluation import calc_scores, summarize_scores"
   ]
  },
  {
   "cell_type": "code",
   "execution_count": 2,
   "metadata": {
    "id": "6CfvwSmoLOe-"
   },
   "outputs": [],
   "source": [
    "%load_ext autoreload\n",
    "\n",
    "%autoreload 2\n",
    "\n",
    "# Loading all required packages \n",
    "import itertools\n",
    "import numpy as np\n",
    "import pandas as pd\n",
    "from sklearn.model_selection import train_test_split\n",
    "from sklearn.linear_model import LinearRegression"
   ]
  },
  {
   "cell_type": "markdown",
   "metadata": {
    "id": "jufTu9k5LOfL"
   },
   "source": [
    "#### Infant Health Development Program Data-Set\n",
    "\n",
    "- Original study constructed to study the effect of special child care for low birthweight, premature infants.\n",
    "- In total, six continuous and 19 binary pretreatment variables\n",
    "- Using the covariates of all instances in both treatment groups, the potential outcomes are generated synthetically\n",
    "- Finally, manipulation of observational study by omitting a non-random set of samples from the treatment group.\n",
    "- The way the subset is generated from the experimental data does not ensure complete overlap - latent confounder\n",
    "- Specifically, the observational subset is created by throwing away the set of all children with nonwhite mothers from the treatment group\n",
    "- Following data generation process used for potentia outcomes\n",
    "- After the adaptions from Hill, we are left with 139 instances in the treated group and 608 instances in the control group."
   ]
  },
  {
   "cell_type": "markdown",
   "metadata": {
    "id": "9ovv6B40R3eS"
   },
   "source": [
    "Brief Intro\n",
    "\n",
    "1.   ITE vs ATE vs CATE: We are always interested in individual treatment effect so this can be incorporated in making some decision. Example: In case of advertising if we know (by some Oracle means) that by sending the email to person A the conversion chance increase by 5% then we can incorporate this in our analysis or decision making. However as we know Fundamental problem of Causal Inference we either know Y(1) or Y(0) and are trying to find this difference by using the counterfactual. Therefore we try different means like estimating this difference over the population and assume that this holds for individuals too. However therefore could be some confounder which affects the outcomes of treatment and therefore in that case it is better to condition on this confounder and hence use CATE instead of ATE.\n",
    "2.   WHY NOT RCT: In RCT also we get the CATE beacuse effectively we create statistical twin set (considering all covariates/features) and then randomly select one set for treatment and other for control. However the problems is Data is not easily available and is difficult to be generated owing to its nature.\n",
    "3. Data Generating Process: In order to be able to evaluate methods, we thus need to resort to semi- or fully-synthetic data. The process\n",
    "of generating such a dataset is called a data generating process (DGP). In partially synthetic approach we create only treatment and/or outcome assignment\n",
    "and use real covariates, however in fully synthetic we create even covariates by sampling them from some distribution. This is partially synthetic dataset. Further a replication is generated by sampling from the probability distributions that define the data. In the case of IHDP 1000 replications of the same data are created.\n",
    "4. As mentioned Overlap condition is not adhered as Control group while has children from both white and non-white mothers its not their in case of Treatment, which itself violates the one of the three main principle of DGP(Overlap, Unconfoundedness and SUTVA). Therefore strong ingnorability cannot cannot be assumed here.\n",
    "\n",
    "\n",
    "\n",
    "\n"
   ]
  },
  {
   "cell_type": "markdown",
   "metadata": {
    "id": "yLQd0vO_LOfP"
   },
   "source": [
    "# 1. Running the causal models"
   ]
  },
  {
   "cell_type": "code",
   "execution_count": 3,
   "metadata": {
    "id": "yg5b4PoxLOfU"
   },
   "outputs": [],
   "source": [
    "# We Import the IHDP data-set \n",
    "# There are 1000 replications in this data-set, each with a different individual treament effect\n",
    "# produced from an underlying generative function. \n",
    "# Check out https://justcause.readthedocs.io/en/latest/\n",
    "\n",
    "# We load 100 of the 1000 data-sets\n",
    "replications = load_ihdp(select_rep=np.arange(100))"
   ]
  },
  {
   "cell_type": "code",
   "execution_count": 4,
   "metadata": {
    "id": "FyTH9JV_LOfh"
   },
   "outputs": [],
   "source": [
    "# Defining global parameters\n",
    "train_size = 0.8        # Size of the training data-set \n",
    "random_state = 42        # Setting the random state\n",
    "\n",
    "n= 0       # number of the data-sets we look at for visualization\n",
    "\n",
    "metrics = [pehe_score, mean_absolute]    ## Defining the metrics that will be calculated below"
   ]
  },
  {
   "cell_type": "markdown",
   "metadata": {
    "id": "vQWUbE6HLOfw"
   },
   "source": [
    "## 1.1 S-Learner Linear Regression"
   ]
  },
  {
   "cell_type": "code",
   "execution_count": 5,
   "metadata": {
    "id": "rT9UjEovLOf0"
   },
   "outputs": [],
   "source": [
    "# Importing the relevant SLearner module\n",
    "\n",
    "from justcause.learners import SLearner\n",
    "\n",
    "# Defining the S-Learner function that returns the ITE\n",
    "# We define a function that takes the data, splits it up and returns individual treatment effect accuracies for the train and the test data-set\n",
    "# The function takes each, the train and test data separately and selects the relevant variables and coverts them into np arrays\n",
    "# The relevant variables have the followings names: x (the covariates), t (the treatment), y (the outcome)\n",
    "# Note that the treatment needs to be explicityl defined\n",
    "\n",
    "\n",
    "def basic_slearner(train, test, model):\n",
    "    \"\"\" \"\"\"\n",
    "    train_X, train_t, train_y = train.np.X, train.np.t, train.np.y\n",
    "    test_X, test_t, test_y = test.np.X, test.np.t, test.np.y\n",
    "\n",
    "    slearner = model     # Select linear regression as a method to find the ITE for the S-Learner\n",
    "    slearner.fit(train_X, train_t, train_y)      # Fitting the s-learner with linear regression\n",
    "    return (\n",
    "        slearner.predict_ite(train_X, train_t, train_y),   # Returning the predicting values for ITE for train\n",
    "        slearner.predict_ite(test_X, test_t, test_y)       # Returning the prediction values for ITE for test\n",
    "    )\n",
    "\n"
   ]
  },
  {
   "cell_type": "code",
   "execution_count": null,
   "metadata": {},
   "outputs": [],
   "source": [
    "\n",
    "def evaluateModels(learnerType,model,data):\n",
    "    test_scores = list()    # Storing the test scores in a list\n",
    "    train_scores = list()\n",
    "    for rep in data:\n",
    "\n",
    "        train, test = train_test_split(\n",
    "            rep, train_size=train_size, random_state=random_state\n",
    "        )\n",
    "\n",
    "        # REPLACE this with the function you implemented and want to evaluate\n",
    "        train_ite, test_ite = learnerType(train, test, model)\n",
    "\n",
    "        # Calculate the scores and append them to a dataframe\n",
    "        train_scores.append(calc_scores(train[Col.ite], train_ite, metrics))\n",
    "        test_scores.append(calc_scores(test[Col.ite], test_ite, metrics))\n",
    "\n",
    "    return train_scores, test_scores\n"
   ]
  },
  {
   "cell_type": "code",
   "execution_count": 6,
   "metadata": {
    "id": "yxwuoQxwLOgD"
   },
   "outputs": [],
   "source": [
    "results_df = list()     # We define the list that contains the results\n",
    "\n",
    "\n",
    "# Passing Linear Regression in S-learner\n",
    "\n",
    "sLearnerLR = SLearner(LinearRegression())\n",
    "train_scores, test_scores = evaluateModels(basic_slearner,sLearnerLR,replications)\n",
    "\n",
    "# Summarize the scores and save them in a dataframe\n",
    "train_result, test_result = summarize_scores(train_scores), summarize_scores(test_scores)\n",
    "train_result.update({'method': 'S-Learner LR', 'train': True})\n",
    "test_result.update({'method': 'S-Learner LR', 'train': False})\n",
    "results_df.append(train_result)\n",
    "results_df.append(test_result)"
   ]
  },
  {
   "cell_type": "code",
   "execution_count": 7,
   "metadata": {
    "colab": {
     "base_uri": "https://localhost:8080/",
     "height": 112
    },
    "id": "bT896RFdqeVf",
    "outputId": "3cfc0503-a730-4e37-eb10-6974236b6282"
   },
   "outputs": [
    {
     "data": {
      "text/html": [
       "<div>\n",
       "<style scoped>\n",
       "    .dataframe tbody tr th:only-of-type {\n",
       "        vertical-align: middle;\n",
       "    }\n",
       "\n",
       "    .dataframe tbody tr th {\n",
       "        vertical-align: top;\n",
       "    }\n",
       "\n",
       "    .dataframe thead th {\n",
       "        text-align: right;\n",
       "    }\n",
       "</style>\n",
       "<table border=\"1\" class=\"dataframe\">\n",
       "  <thead>\n",
       "    <tr style=\"text-align: right;\">\n",
       "      <th></th>\n",
       "      <th>pehe_score-mean</th>\n",
       "      <th>pehe_score-median</th>\n",
       "      <th>pehe_score-std</th>\n",
       "      <th>mean_absolute-mean</th>\n",
       "      <th>mean_absolute-median</th>\n",
       "      <th>mean_absolute-std</th>\n",
       "      <th>method</th>\n",
       "      <th>train</th>\n",
       "    </tr>\n",
       "  </thead>\n",
       "  <tbody>\n",
       "    <tr>\n",
       "      <th>0</th>\n",
       "      <td>5.633660</td>\n",
       "      <td>2.623297</td>\n",
       "      <td>8.362125</td>\n",
       "      <td>0.732443</td>\n",
       "      <td>0.238185</td>\n",
       "      <td>1.493276</td>\n",
       "      <td>S-Learner LR</td>\n",
       "      <td>True</td>\n",
       "    </tr>\n",
       "    <tr>\n",
       "      <th>1</th>\n",
       "      <td>5.625971</td>\n",
       "      <td>2.635993</td>\n",
       "      <td>8.213626</td>\n",
       "      <td>1.292668</td>\n",
       "      <td>0.396246</td>\n",
       "      <td>2.474603</td>\n",
       "      <td>S-Learner LR</td>\n",
       "      <td>False</td>\n",
       "    </tr>\n",
       "  </tbody>\n",
       "</table>\n",
       "</div>"
      ],
      "text/plain": [
       "   pehe_score-mean  pehe_score-median  ...        method  train\n",
       "0         5.633660           2.623297  ...  S-Learner LR   True\n",
       "1         5.625971           2.635993  ...  S-Learner LR  False\n",
       "\n",
       "[2 rows x 8 columns]"
      ]
     },
     "execution_count": 7,
     "metadata": {},
     "output_type": "execute_result"
    }
   ],
   "source": [
    "df_S_learner_LR=pd.DataFrame([train_result, test_result])\n",
    "\n",
    "df_S_learner_LR"
   ]
  },
  {
   "cell_type": "markdown",
   "metadata": {
    "id": "yfhFVRd4LOgk"
   },
   "source": [
    "### 1.1.1 S-Learner Visualization ( for replications n = 0)"
   ]
  },
  {
   "cell_type": "code",
   "execution_count": 8,
   "metadata": {
    "id": "xbbouLxaLOgo"
   },
   "outputs": [],
   "source": [
    "# We run the same analysis again but only on an indvidual run of the data\n",
    "# The reason is that the data generating process is varied every time,... \n",
    "# ...so we can only look at individual runs of the ITE effect\n",
    "results_df = list()    # We define the list that contains the results\n",
    "test_scores = list()   # Storing the test scores in a list\n",
    "train_scores = list()  # Storing the train scores in a list\n",
    "\n",
    "\n",
    "train, test = train_test_split(\n",
    "        replications[n], train_size=train_size, random_state=random_state    \n",
    "    )\n",
    "\n",
    "\n",
    "train_ite, test_ite = basic_slearner(train, test, sLearnerLR)         # using the pre-defined basic learner function to retunr train, test\n",
    "\n",
    "train_scores.append(calc_scores(train[Col.ite], train_ite, metrics))    # Using the just cause API to calcualte the scores from the estimate ITE for the training data\n",
    "test_scores.append(calc_scores(test[Col.ite], test_ite, metrics))     # Using the just cause API to calcualte the scores from the estimate ITE for the test data\n",
    "\n",
    "train_result, test_result = summarize_scores(train_scores), summarize_scores(test_scores)   #summary of the scores \n",
    "train_result.update({'method': 'S-Learner LR', 'train': True})\n",
    "test_result.update({'method': 'S-Learner LR', 'train': False})\n"
   ]
  },
  {
   "cell_type": "code",
   "execution_count": 9,
   "metadata": {
    "colab": {
     "base_uri": "https://localhost:8080/",
     "height": 333
    },
    "id": "AsxWY_9mLOg2",
    "outputId": "768bcd40-f306-40f7-801c-cf783613e6fc"
   },
   "outputs": [
    {
     "name": "stderr",
     "output_type": "stream",
     "text": [
      "*c* argument looks like a single numeric RGB or RGBA sequence, which should be avoided as value-mapping will have precedence in case its length matches with *x* & *y*.  Please use the *color* keyword-argument or provide a 2-D array with a single row if you intend to specify the same RGB or RGBA value for all points.\n"
     ]
    },
    {
     "data": {
      "image/png": "[encoded data removed]",
      "text/plain": [
       "<Figure size 432x288 with 1 Axes>"
      ]
     },
     "metadata": {
      "needs_background": "light"
     },
     "output_type": "display_data"
    }
   ],
   "source": [
    "# Importing Matplotlib \n",
    "import matplotlib.pyplot as plt\n",
    "colors = (0,0,0)\n",
    "# Plot\n",
    "plt.scatter(test.np.ite, test_ite,  c=colors, alpha=0.5)\n",
    "plt.title('Scatter of treatment effects')\n",
    "plt.xlabel('real treatment effect')\n",
    "plt.ylabel('estimated treatment effect')\n",
    "plt.show()\n",
    "\n",
    "# If the treatment effect is perfectly represented there should be a 45 degree line!"
   ]
  },
  {
   "cell_type": "markdown",
   "metadata": {
    "id": "dJe9Cnj6LOhL"
   },
   "source": [
    "## 1.2 Propensity Score Weighing with Linear Regression"
   ]
  },
  {
   "cell_type": "code",
   "execution_count": 10,
   "metadata": {
    "id": "w7TpRNPdLOhP"
   },
   "outputs": [],
   "source": [
    "# Importing the relevant PSWEstimator\n",
    "\n",
    "from justcause.learners import PSWEstimator\n",
    "\n",
    "\n",
    "#Defining the Propoensity Score weighing function that returns the ITE\n",
    "\n",
    "def propensity_score_weighing(train, test, model):\n",
    "    \"\"\" \"\"\"\n",
    "    train_X, train_t, train_y = train.np.X, train.np.t, train.np.y\n",
    "    test_X, test_t, test_y = test.np.X, test.np.t, test.np.y\n",
    "\n",
    "    pswestimator = model\n",
    "\n",
    "    return (\n",
    "        pswestimator.estimate_ate(train_X, train_t, train_y),\n",
    "        pswestimator.estimate_ate(test_X, test_t, test_y)\n",
    "    )\n"
   ]
  },
  {
   "cell_type": "code",
   "execution_count": 11,
   "metadata": {
    "id": "YNoIPNfgLOhb"
   },
   "outputs": [],
   "source": [
    "\n",
    "model = PSWEstimator(propensity_learner=None, delta=0.001)\n",
    "train_scores, test_scores = evaluateModels(propensity_score_weighing, model, replications)\n",
    "\n",
    "train_result, test_result = summarize_scores(train_scores), summarize_scores(test_scores)\n",
    "train_result.update({'method': 'PSW', 'train': True})\n",
    "test_result.update({'method': 'PSW', 'train': False})\n",
    "\n",
    "results_df.append(train_result)\n",
    "results_df.append(test_result)"
   ]
  },
  {
   "cell_type": "code",
   "execution_count": 12,
   "metadata": {
    "colab": {
     "base_uri": "https://localhost:8080/",
     "height": 112
    },
    "id": "xsAdtgqKss7k",
    "outputId": "4a329554-1c82-40b2-a2d7-a3884f3b627c"
   },
   "outputs": [
    {
     "data": {
      "text/html": [
       "<div>\n",
       "<style scoped>\n",
       "    .dataframe tbody tr th:only-of-type {\n",
       "        vertical-align: middle;\n",
       "    }\n",
       "\n",
       "    .dataframe tbody tr th {\n",
       "        vertical-align: top;\n",
       "    }\n",
       "\n",
       "    .dataframe thead th {\n",
       "        text-align: right;\n",
       "    }\n",
       "</style>\n",
       "<table border=\"1\" class=\"dataframe\">\n",
       "  <thead>\n",
       "    <tr style=\"text-align: right;\">\n",
       "      <th></th>\n",
       "      <th>pehe_score-mean</th>\n",
       "      <th>pehe_score-median</th>\n",
       "      <th>pehe_score-std</th>\n",
       "      <th>mean_absolute-mean</th>\n",
       "      <th>mean_absolute-median</th>\n",
       "      <th>mean_absolute-std</th>\n",
       "      <th>method</th>\n",
       "      <th>train</th>\n",
       "    </tr>\n",
       "  </thead>\n",
       "  <tbody>\n",
       "    <tr>\n",
       "      <th>0</th>\n",
       "      <td>5.595322</td>\n",
       "      <td>2.537818</td>\n",
       "      <td>8.244302</td>\n",
       "      <td>0.412006</td>\n",
       "      <td>0.284332</td>\n",
       "      <td>0.457697</td>\n",
       "      <td>PSW</td>\n",
       "      <td>True</td>\n",
       "    </tr>\n",
       "    <tr>\n",
       "      <th>1</th>\n",
       "      <td>6.837997</td>\n",
       "      <td>3.484394</td>\n",
       "      <td>8.323623</td>\n",
       "      <td>3.783440</td>\n",
       "      <td>2.649187</td>\n",
       "      <td>3.225824</td>\n",
       "      <td>PSW</td>\n",
       "      <td>False</td>\n",
       "    </tr>\n",
       "  </tbody>\n",
       "</table>\n",
       "</div>"
      ],
      "text/plain": [
       "   pehe_score-mean  pehe_score-median  ...  method  train\n",
       "0         5.595322           2.537818  ...     PSW   True\n",
       "1         6.837997           3.484394  ...     PSW  False\n",
       "\n",
       "[2 rows x 8 columns]"
      ]
     },
     "execution_count": 12,
     "metadata": {},
     "output_type": "execute_result"
    }
   ],
   "source": [
    "df_PSW_LR=pd.DataFrame([train_result, test_result])\n",
    "df_PSW_LR"
   ]
  },
  {
   "cell_type": "markdown",
   "metadata": {
    "id": "jAcuhZhKLOhy"
   },
   "source": [
    "## 1.3 S-Learner Random Forest"
   ]
  },
  {
   "cell_type": "code",
   "execution_count": 13,
   "metadata": {
    "id": "wtiDtGbyLOh3"
   },
   "outputs": [],
   "source": [
    "from sklearn.ensemble import RandomForestRegressor\n",
    "from sklearn.datasets import make_regression"
   ]
  },
  {
   "cell_type": "code",
   "execution_count": 14,
   "metadata": {
    "id": "XW0XLJ0ELOiG"
   },
   "outputs": [],
   "source": [
    "\n",
    "sLearnerRF = SLearner(RandomForestRegressor(random_state= random_state))\n",
    "train_scores, test_scores = evaluateModels(basic_slearner,sLearnerRF, replications)\n",
    "\n",
    "\n",
    "train_result, test_result = summarize_scores(train_scores), summarize_scores(test_scores)\n",
    "train_result.update({'method': 'S-Learner RF', 'train': True})\n",
    "test_result.update({'method': 'S-Learner RF', 'train': False})\n",
    "results_df.append(train_result)\n",
    "results_df.append(test_result)"
   ]
  },
  {
   "cell_type": "code",
   "execution_count": 15,
   "metadata": {
    "colab": {
     "base_uri": "https://localhost:8080/",
     "height": 112
    },
    "id": "hlgmjrXNEVB7",
    "outputId": "e930b0fa-31d4-4a99-df61-0d9a42d30c9c"
   },
   "outputs": [
    {
     "data": {
      "text/html": [
       "<div>\n",
       "<style scoped>\n",
       "    .dataframe tbody tr th:only-of-type {\n",
       "        vertical-align: middle;\n",
       "    }\n",
       "\n",
       "    .dataframe tbody tr th {\n",
       "        vertical-align: top;\n",
       "    }\n",
       "\n",
       "    .dataframe thead th {\n",
       "        text-align: right;\n",
       "    }\n",
       "</style>\n",
       "<table border=\"1\" class=\"dataframe\">\n",
       "  <thead>\n",
       "    <tr style=\"text-align: right;\">\n",
       "      <th></th>\n",
       "      <th>pehe_score-mean</th>\n",
       "      <th>pehe_score-median</th>\n",
       "      <th>pehe_score-std</th>\n",
       "      <th>mean_absolute-mean</th>\n",
       "      <th>mean_absolute-median</th>\n",
       "      <th>mean_absolute-std</th>\n",
       "      <th>method</th>\n",
       "      <th>train</th>\n",
       "    </tr>\n",
       "  </thead>\n",
       "  <tbody>\n",
       "    <tr>\n",
       "      <th>0</th>\n",
       "      <td>3.103431</td>\n",
       "      <td>1.042752</td>\n",
       "      <td>4.782134</td>\n",
       "      <td>0.506913</td>\n",
       "      <td>0.130858</td>\n",
       "      <td>0.958173</td>\n",
       "      <td>S-Learner RF</td>\n",
       "      <td>True</td>\n",
       "    </tr>\n",
       "    <tr>\n",
       "      <th>1</th>\n",
       "      <td>3.303456</td>\n",
       "      <td>1.232679</td>\n",
       "      <td>5.152432</td>\n",
       "      <td>0.455873</td>\n",
       "      <td>0.138632</td>\n",
       "      <td>1.055254</td>\n",
       "      <td>S-Learner RF</td>\n",
       "      <td>False</td>\n",
       "    </tr>\n",
       "  </tbody>\n",
       "</table>\n",
       "</div>"
      ],
      "text/plain": [
       "   pehe_score-mean  pehe_score-median  ...        method  train\n",
       "0         3.103431           1.042752  ...  S-Learner RF   True\n",
       "1         3.303456           1.232679  ...  S-Learner RF  False\n",
       "\n",
       "[2 rows x 8 columns]"
      ]
     },
     "execution_count": 15,
     "metadata": {},
     "output_type": "execute_result"
    }
   ],
   "source": [
    "df_S_learner_RF=pd.DataFrame([train_result, test_result])\n",
    "df_S_learner_RF"
   ]
  },
  {
   "cell_type": "markdown",
   "metadata": {},
   "source": [
    "SLearner RF visualization"
   ]
  },
  {
   "cell_type": "code",
   "execution_count": 16,
   "metadata": {
    "id": "Meb4UZjELOig"
   },
   "outputs": [],
   "source": [
    "\n",
    "results_df = list()    # We define the list that contains the results\n",
    "test_scores = list()   # Storing the test scores in a list\n",
    "train_scores = list()  # Storing the train scores in a list\n",
    "\n",
    "\n",
    "train, test = train_test_split(\n",
    "        replications[n], train_size=train_size, random_state=random_state     \n",
    "    )\n",
    "\n",
    "train_ite, test_ite = basic_slearner(train, test, sLearnerRF)         # using the pre-defined basic learner function to retunr train, test\n",
    "\n",
    "train_scores.append(calc_scores(train[Col.ite], train_ite, metrics))    # Using the just cause API to calcualte the scores from the estimate ITE for the training data\n",
    "test_scores.append(calc_scores(test[Col.ite], test_ite, metrics))     # Using the just cause API to calcualte the scores from the estimate ITE for the test data\n",
    "\n",
    "train_result, test_result = summarize_scores(train_scores), summarize_scores(test_scores)   #summary of the scores \n",
    "train_result.update({'method': 'S-Learner RF', 'train': True})\n",
    "test_result.update({'method': 'S-Learner RF', 'train': False})"
   ]
  },
  {
   "cell_type": "code",
   "execution_count": null,
   "metadata": {
    "colab": {
     "base_uri": "https://localhost:8080/",
     "height": 333
    },
    "id": "eF2mk_AxLOin",
    "outputId": "2da10f53-93cb-4f71-a1f1-ea9b156a944d",
    "scrolled": true
   },
   "outputs": [
    {
     "name": "stderr",
     "output_type": "stream",
     "text": [
      "*c* argument looks like a single numeric RGB or RGBA sequence, which should be avoided as value-mapping will have precedence in case its length matches with *x* & *y*.  Please use the *color* keyword-argument or provide a 2-D array with a single row if you intend to specify the same RGB or RGBA value for all points.\n"
     ]
    },
    {
     "data": {
      "image/png": "[encoded data removed]",
      "text/plain": [
       "<Figure size 432x288 with 1 Axes>"
      ]
     },
     "metadata": {
      "needs_background": "light"
     },
     "output_type": "display_data"
    }
   ],
   "source": [
    "import matplotlib.pyplot as plt\n",
    "colors = (0,0,0)\n",
    "# Plot\n",
    "plt.scatter(test.np.ite, test_ite,  c=colors, alpha=0.5)\n",
    "plt.title('Scatter of treatment effects')\n",
    "plt.xlabel('real treatment effect')\n",
    "plt.ylabel('estimated treatment effect')\n",
    "plt.show()"
   ]
  },
  {
   "cell_type": "markdown",
   "metadata": {
    "id": "vowzj2teLOiw"
   },
   "source": [
    "## 1.4 T-Learner Linear Regression"
   ]
  },
  {
   "cell_type": "code",
   "execution_count": 17,
   "metadata": {
    "id": "811XNGgLLOix"
   },
   "outputs": [],
   "source": [
    "# Importing the relevant TLearner module\n",
    "\n",
    "from justcause.learners import TLearner\n",
    "\n",
    "\n",
    "#Defining the T-Learner function that returns the ITE\n",
    "\n",
    "def basic_tlearner(train, test, model):\n",
    "    \"\"\" \"\"\"\n",
    "    train_X, train_t, train_y = train.np.X, train.np.t, train.np.y\n",
    "    test_X, test_t, test_y = test.np.X, test.np.t, test.np.y\n",
    "\n",
    "    tlearner = model\n",
    "    tlearner.fit(train_X, train_t, train_y)\n",
    "    return (\n",
    "        tlearner.predict_ite(train_X, train_t, train_y),\n",
    "        tlearner.predict_ite(test_X, test_t, test_y)\n",
    "    )\n",
    "\n"
   ]
  },
  {
   "cell_type": "code",
   "execution_count": 18,
   "metadata": {
    "id": "J_GCgPWtLOi2"
   },
   "outputs": [],
   "source": [
    "tlearnerLR = TLearner(LinearRegression())\n",
    "train_scores, test_scores = evaluateModels(basic_tlearner,tlearnerLR, replications)\n",
    "\n",
    "# Summarize the scores and save them in a dataframe\n",
    "train_result, test_result = summarize_scores(train_scores), summarize_scores(test_scores)\n",
    "train_result.update({'method': 'T-Learner LR', 'train': True})\n",
    "test_result.update({'method': 'T-Learner LR', 'train': False})\n",
    "results_df.append(train_result)\n",
    "results_df.append(test_result)"
   ]
  },
  {
   "cell_type": "code",
   "execution_count": 19,
   "metadata": {
    "colab": {
     "base_uri": "https://localhost:8080/",
     "height": 112
    },
    "id": "tMeJsu4zLOi6",
    "outputId": "c5874310-4266-4cc4-c74a-2fe0810ee6b8",
    "scrolled": true
   },
   "outputs": [
    {
     "data": {
      "text/html": [
       "<div>\n",
       "<style scoped>\n",
       "    .dataframe tbody tr th:only-of-type {\n",
       "        vertical-align: middle;\n",
       "    }\n",
       "\n",
       "    .dataframe tbody tr th {\n",
       "        vertical-align: top;\n",
       "    }\n",
       "\n",
       "    .dataframe thead th {\n",
       "        text-align: right;\n",
       "    }\n",
       "</style>\n",
       "<table border=\"1\" class=\"dataframe\">\n",
       "  <thead>\n",
       "    <tr style=\"text-align: right;\">\n",
       "      <th></th>\n",
       "      <th>pehe_score-mean</th>\n",
       "      <th>pehe_score-median</th>\n",
       "      <th>pehe_score-std</th>\n",
       "      <th>mean_absolute-mean</th>\n",
       "      <th>mean_absolute-median</th>\n",
       "      <th>mean_absolute-std</th>\n",
       "      <th>method</th>\n",
       "      <th>train</th>\n",
       "    </tr>\n",
       "  </thead>\n",
       "  <tbody>\n",
       "    <tr>\n",
       "      <th>0</th>\n",
       "      <td>2.276868</td>\n",
       "      <td>1.055409</td>\n",
       "      <td>3.319402</td>\n",
       "      <td>0.149960</td>\n",
       "      <td>0.133955</td>\n",
       "      <td>0.129121</td>\n",
       "      <td>T-Learner LR</td>\n",
       "      <td>True</td>\n",
       "    </tr>\n",
       "    <tr>\n",
       "      <th>1</th>\n",
       "      <td>2.337753</td>\n",
       "      <td>1.122464</td>\n",
       "      <td>3.263915</td>\n",
       "      <td>0.263287</td>\n",
       "      <td>0.195850</td>\n",
       "      <td>0.327846</td>\n",
       "      <td>T-Learner LR</td>\n",
       "      <td>False</td>\n",
       "    </tr>\n",
       "  </tbody>\n",
       "</table>\n",
       "</div>"
      ],
      "text/plain": [
       "   pehe_score-mean  pehe_score-median  ...        method  train\n",
       "0         2.276868           1.055409  ...  T-Learner LR   True\n",
       "1         2.337753           1.122464  ...  T-Learner LR  False\n",
       "\n",
       "[2 rows x 8 columns]"
      ]
     },
     "execution_count": 19,
     "metadata": {},
     "output_type": "execute_result"
    }
   ],
   "source": [
    "df_T_learner_LR=pd.DataFrame([train_result, test_result])\n",
    "df_T_learner_LR"
   ]
  },
  {
   "cell_type": "markdown",
   "metadata": {
    "id": "-k49nGyQLOi9"
   },
   "source": [
    "### 1.4.1 T-Learner Linear Regression Visualization"
   ]
  },
  {
   "cell_type": "code",
   "execution_count": 20,
   "metadata": {
    "id": "9u2DMEWTLOi-"
   },
   "outputs": [],
   "source": [
    "results_df = list()\n",
    "test_scores = list()\n",
    "train_scores = list()\n",
    "\n",
    "train, test = train_test_split(\n",
    "        replications[n], train_size=train_size, random_state=random_state\n",
    "    )\n",
    "\n",
    "train_ite, test_ite = basic_tlearner(train, test, tlearnerLR)\n",
    "\n",
    "train_scores.append(calc_scores(train[Col.ite], train_ite, metrics))\n",
    "test_scores.append(calc_scores(test[Col.ite], test_ite, metrics))\n",
    "\n",
    "train_result, test_result = summarize_scores(train_scores), summarize_scores(test_scores)\n",
    "train_result.update({'method': 'T-Learner LR', 'train': True})\n",
    "test_result.update({'method': 'T-Learner LR', 'train': False})"
   ]
  },
  {
   "cell_type": "code",
   "execution_count": 21,
   "metadata": {
    "colab": {
     "base_uri": "https://localhost:8080/",
     "height": 333
    },
    "id": "VtFgO5PZLOjC",
    "outputId": "05009ad5-d4e6-4e08-b119-7e1d4f4d95dd",
    "scrolled": true
   },
   "outputs": [
    {
     "name": "stderr",
     "output_type": "stream",
     "text": [
      "*c* argument looks like a single numeric RGB or RGBA sequence, which should be avoided as value-mapping will have precedence in case its length matches with *x* & *y*.  Please use the *color* keyword-argument or provide a 2-D array with a single row if you intend to specify the same RGB or RGBA value for all points.\n"
     ]
    },
    {
     "data": {
      "image/png": "[encoded data removed]",
      "text/plain": [
       "<Figure size 432x288 with 1 Axes>"
      ]
     },
     "metadata": {
      "needs_background": "light"
     },
     "output_type": "display_data"
    }
   ],
   "source": [
    "import matplotlib.pyplot as plt\n",
    "colors = (0,0,0)\n",
    "# Plot\n",
    "plt.scatter(test.np.ite, test_ite,  c=colors, alpha=0.5)\n",
    "plt.title('Scatter of treatment effects')\n",
    "plt.xlabel('real treatment effect')\n",
    "plt.ylabel('estimated treatment effect')\n",
    "plt.show()"
   ]
  },
  {
   "cell_type": "markdown",
   "metadata": {
    "id": "RO36FBY1LOjG"
   },
   "source": [
    "## 1.5 T-Learner Random Forest"
   ]
  },
  {
   "cell_type": "code",
   "execution_count": 22,
   "metadata": {
    "id": "pjA-HNpCLOjH"
   },
   "outputs": [],
   "source": [
    "# Importing the relevant TLearner module\n",
    "\n",
    "from justcause.learners import TLearner\n",
    "\n",
    "\n",
    "#Defining the T-Learner function that returns the ITE\n",
    "\n",
    "def basic_tlearner(train, test, model):\n",
    "    \"\"\" \"\"\"\n",
    "    train_X, train_t, train_y = train.np.X, train.np.t, train.np.y\n",
    "    test_X, test_t, test_y = test.np.X, test.np.t, test.np.y\n",
    "\n",
    "    tlearner = model\n",
    "    tlearner.fit(train_X, train_t, train_y)\n",
    "    return (\n",
    "        tlearner.predict_ite(train_X, train_t, train_y),\n",
    "        tlearner.predict_ite(test_X, test_t, test_y)\n",
    "    )\n",
    "\n"
   ]
  },
  {
   "cell_type": "code",
   "execution_count": 23,
   "metadata": {
    "id": "RMXoNfexLOjL"
   },
   "outputs": [],
   "source": [
    "tLearnerRF = TLearner(RandomForestRegressor(random_state= random_state))\n",
    "train_scores, test_scores = evaluateModels(basic_tlearner,tLearnerRF, replications)\n",
    "\n",
    "\n",
    "train_result, test_result = summarize_scores(train_scores), summarize_scores(test_scores)\n",
    "train_result.update({'method': 'T-Learner RF', 'train': True})\n",
    "test_result.update({'method': 'T-Learner RF', 'train': False})\n",
    "\n",
    "results_df.append(train_result)\n",
    "results_df.append(test_result)"
   ]
  },
  {
   "cell_type": "code",
   "execution_count": 24,
   "metadata": {
    "colab": {
     "base_uri": "https://localhost:8080/",
     "height": 112
    },
    "id": "psT80zSaLOjP",
    "outputId": "c6d37d83-482e-4a25-8ed6-2b7f7a3324ce",
    "scrolled": true
   },
   "outputs": [
    {
     "data": {
      "text/html": [
       "<div>\n",
       "<style scoped>\n",
       "    .dataframe tbody tr th:only-of-type {\n",
       "        vertical-align: middle;\n",
       "    }\n",
       "\n",
       "    .dataframe tbody tr th {\n",
       "        vertical-align: top;\n",
       "    }\n",
       "\n",
       "    .dataframe thead th {\n",
       "        text-align: right;\n",
       "    }\n",
       "</style>\n",
       "<table border=\"1\" class=\"dataframe\">\n",
       "  <thead>\n",
       "    <tr style=\"text-align: right;\">\n",
       "      <th></th>\n",
       "      <th>pehe_score-mean</th>\n",
       "      <th>pehe_score-median</th>\n",
       "      <th>pehe_score-std</th>\n",
       "      <th>mean_absolute-mean</th>\n",
       "      <th>mean_absolute-median</th>\n",
       "      <th>mean_absolute-std</th>\n",
       "      <th>method</th>\n",
       "      <th>train</th>\n",
       "    </tr>\n",
       "  </thead>\n",
       "  <tbody>\n",
       "    <tr>\n",
       "      <th>0</th>\n",
       "      <td>1.789142</td>\n",
       "      <td>0.963095</td>\n",
       "      <td>2.264893</td>\n",
       "      <td>0.125687</td>\n",
       "      <td>0.091743</td>\n",
       "      <td>0.126149</td>\n",
       "      <td>T-Learner RF</td>\n",
       "      <td>True</td>\n",
       "    </tr>\n",
       "    <tr>\n",
       "      <th>1</th>\n",
       "      <td>2.508365</td>\n",
       "      <td>1.125215</td>\n",
       "      <td>3.481669</td>\n",
       "      <td>0.212099</td>\n",
       "      <td>0.111783</td>\n",
       "      <td>0.280373</td>\n",
       "      <td>T-Learner RF</td>\n",
       "      <td>False</td>\n",
       "    </tr>\n",
       "  </tbody>\n",
       "</table>\n",
       "</div>"
      ],
      "text/plain": [
       "   pehe_score-mean  pehe_score-median  ...        method  train\n",
       "0         1.789142           0.963095  ...  T-Learner RF   True\n",
       "1         2.508365           1.125215  ...  T-Learner RF  False\n",
       "\n",
       "[2 rows x 8 columns]"
      ]
     },
     "execution_count": 24,
     "metadata": {},
     "output_type": "execute_result"
    }
   ],
   "source": [
    "df_T_learner_RF=pd.DataFrame([train_result, test_result])\n",
    "df_T_learner_RF"
   ]
  },
  {
   "cell_type": "markdown",
   "metadata": {
    "id": "XSU2Kyj9LOjT"
   },
   "source": [
    "### 1.5.1 T-Learner with Random Forrest Visualization"
   ]
  },
  {
   "cell_type": "code",
   "execution_count": 25,
   "metadata": {
    "id": "BKNP1x2KLOjU"
   },
   "outputs": [],
   "source": [
    "\n",
    "train, test = train_test_split(\n",
    "        replications[n], train_size=train_size, random_state=random_state\n",
    "    )\n",
    "\n",
    "train_ite, test_ite = basic_tlearner(train, test, tLearnerRF)\n",
    "\n",
    "train_scores.append(calc_scores(train[Col.ite], train_ite, metrics))\n",
    "test_scores.append(calc_scores(test[Col.ite], test_ite, metrics))\n",
    "\n",
    "train_result, test_result = summarize_scores(train_scores), summarize_scores(test_scores)\n",
    "train_result.update({'method': 'T-Learner RF', 'train': True})\n",
    "test_result.update({'method': 'T-Learner RF', 'train': False})"
   ]
  },
  {
   "cell_type": "code",
   "execution_count": 26,
   "metadata": {
    "colab": {
     "base_uri": "https://localhost:8080/",
     "height": 333
    },
    "id": "Ha8GizLtLOjY",
    "outputId": "4dbdf82a-dffc-415e-8dc6-ee460d8a1a70"
   },
   "outputs": [
    {
     "name": "stderr",
     "output_type": "stream",
     "text": [
      "*c* argument looks like a single numeric RGB or RGBA sequence, which should be avoided as value-mapping will have precedence in case its length matches with *x* & *y*.  Please use the *color* keyword-argument or provide a 2-D array with a single row if you intend to specify the same RGB or RGBA value for all points.\n"
     ]
    },
    {
     "data": {
      "image/png": "[encoded data removed]",
      "text/plain": [
       "<Figure size 432x288 with 1 Axes>"
      ]
     },
     "metadata": {
      "needs_background": "light"
     },
     "output_type": "display_data"
    }
   ],
   "source": [
    "import matplotlib.pyplot as plt\n",
    "colors = (0,0,0)\n",
    "# Plot\n",
    "plt.scatter(test.np.ite, test_ite,  c=colors, alpha=0.5)\n",
    "plt.title('Scatter of treatment effects')\n",
    "plt.xlabel('real treatment effect')\n",
    "plt.ylabel('estimated treatment effect')\n",
    "plt.show()"
   ]
  },
  {
   "cell_type": "markdown",
   "metadata": {
    "id": "jh0sdhdKLOjf"
   },
   "source": [
    "## 1.6 Causal Forest"
   ]
  },
  {
   "cell_type": "code",
   "execution_count": 27,
   "metadata": {
    "id": "8GWzTUTlLOjg"
   },
   "outputs": [],
   "source": [
    "# Importing the relevant SLearner module\n",
    "\n",
    "from justcause.learners import CausalForest\n",
    "\n",
    "\n",
    "#Defining the S-Learner function that returns the ITE\n",
    "\n",
    "def causal_forest(train, test, model):\n",
    "    \"\"\" \"\"\"\n",
    "    train_X, train_t, train_y = train.np.X, train.np.t, train.np.y\n",
    "    test_X, test_t, test_y = test.np.X, test.np.t, test.np.y\n",
    "\n",
    "    causalforest = CausalForest(random_state=random_state)\n",
    "    causalforest.fit(train_X, train_t, train_y)\n",
    "    return (\n",
    "        causalforest.predict_ite(train_X, train_t, train_y),\n",
    "        causalforest.predict_ite(test_X, test_t, test_y)\n",
    "    )\n"
   ]
  },
  {
   "cell_type": "code",
   "execution_count": 28,
   "metadata": {
    "id": "ZY-qvwfHLOjk"
   },
   "outputs": [],
   "source": [
    "random_state = 1\n",
    "\n",
    "\n",
    "causalRF = CausalForest(random_state=random_state)\n",
    "train_scores, test_scores = evaluateModels(causal_forest,causalRF, replications)\n",
    "\n",
    "\n",
    "train_result, test_result = summarize_scores(train_scores), summarize_scores(test_scores)\n",
    "train_result.update({'method': 'Causal Forest', 'train': True})\n",
    "test_result.update({'method': 'Causal Forest', 'train': False})\n",
    "results_df.append(train_result)\n",
    "results_df.append(test_result)"
   ]
  },
  {
   "cell_type": "code",
   "execution_count": 29,
   "metadata": {
    "colab": {
     "base_uri": "https://localhost:8080/",
     "height": 112
    },
    "id": "B78davrGLOjn",
    "outputId": "9112196e-25fe-460c-ce94-f1a519bdca97"
   },
   "outputs": [
    {
     "data": {
      "text/html": [
       "<div>\n",
       "<style scoped>\n",
       "    .dataframe tbody tr th:only-of-type {\n",
       "        vertical-align: middle;\n",
       "    }\n",
       "\n",
       "    .dataframe tbody tr th {\n",
       "        vertical-align: top;\n",
       "    }\n",
       "\n",
       "    .dataframe thead th {\n",
       "        text-align: right;\n",
       "    }\n",
       "</style>\n",
       "<table border=\"1\" class=\"dataframe\">\n",
       "  <thead>\n",
       "    <tr style=\"text-align: right;\">\n",
       "      <th></th>\n",
       "      <th>pehe_score-mean</th>\n",
       "      <th>pehe_score-median</th>\n",
       "      <th>pehe_score-std</th>\n",
       "      <th>mean_absolute-mean</th>\n",
       "      <th>mean_absolute-median</th>\n",
       "      <th>mean_absolute-std</th>\n",
       "      <th>method</th>\n",
       "      <th>train</th>\n",
       "    </tr>\n",
       "  </thead>\n",
       "  <tbody>\n",
       "    <tr>\n",
       "      <th>0</th>\n",
       "      <td>4.172661</td>\n",
       "      <td>1.921242</td>\n",
       "      <td>6.330031</td>\n",
       "      <td>0.441738</td>\n",
       "      <td>0.198733</td>\n",
       "      <td>0.823171</td>\n",
       "      <td>Causal Forest</td>\n",
       "      <td>True</td>\n",
       "    </tr>\n",
       "    <tr>\n",
       "      <th>1</th>\n",
       "      <td>4.378083</td>\n",
       "      <td>1.797608</td>\n",
       "      <td>6.606150</td>\n",
       "      <td>0.683703</td>\n",
       "      <td>0.233695</td>\n",
       "      <td>1.354973</td>\n",
       "      <td>Causal Forest</td>\n",
       "      <td>False</td>\n",
       "    </tr>\n",
       "  </tbody>\n",
       "</table>\n",
       "</div>"
      ],
      "text/plain": [
       "   pehe_score-mean  pehe_score-median  ...         method  train\n",
       "0         4.172661           1.921242  ...  Causal Forest   True\n",
       "1         4.378083           1.797608  ...  Causal Forest  False\n",
       "\n",
       "[2 rows x 8 columns]"
      ]
     },
     "execution_count": 29,
     "metadata": {},
     "output_type": "execute_result"
    }
   ],
   "source": [
    "df_causal_forest=pd.DataFrame([train_result, test_result])\n",
    "df_causal_forest"
   ]
  },
  {
   "cell_type": "markdown",
   "metadata": {
    "id": "GfQBHXUTLOjt"
   },
   "source": [
    "### 1.6.1 Causal Forest Visualization "
   ]
  },
  {
   "cell_type": "code",
   "execution_count": 30,
   "metadata": {
    "id": "Z4c3Y-XDLOju"
   },
   "outputs": [],
   "source": [
    "random_state = 1\n",
    "\n",
    "results_df = list()\n",
    "test_scores = list()\n",
    "train_scores = list()\n",
    "\n",
    "\n",
    "\n",
    "train, test = train_test_split(\n",
    "        replications[n], train_size=train_size, random_state=random_state\n",
    "    )\n",
    "\n",
    "train_ite, test_ite = causal_forest(train, test, causalRF)\n",
    "\n",
    "train_scores.append(calc_scores(train[Col.ite], train_ite, metrics))\n",
    "test_scores.append(calc_scores(test[Col.ite], test_ite, metrics))\n",
    "\n",
    "train_result, test_result = summarize_scores(train_scores), summarize_scores(test_scores)\n",
    "train_result.update({'method': 'Causal Forest', 'train': True})\n",
    "test_result.update({'method': 'Causal Forest', 'train': False})"
   ]
  },
  {
   "cell_type": "code",
   "execution_count": 31,
   "metadata": {
    "colab": {
     "base_uri": "https://localhost:8080/",
     "height": 333
    },
    "id": "A3mIANgDLOjw",
    "outputId": "8807061a-384d-4d69-dbfa-68b70a9dcd19"
   },
   "outputs": [
    {
     "name": "stderr",
     "output_type": "stream",
     "text": [
      "*c* argument looks like a single numeric RGB or RGBA sequence, which should be avoided as value-mapping will have precedence in case its length matches with *x* & *y*.  Please use the *color* keyword-argument or provide a 2-D array with a single row if you intend to specify the same RGB or RGBA value for all points.\n"
     ]
    },
    {
     "data": {
      "image/png": "[encoded data removed]",
      "text/plain": [
       "<Figure size 432x288 with 1 Axes>"
      ]
     },
     "metadata": {
      "needs_background": "light"
     },
     "output_type": "display_data"
    }
   ],
   "source": [
    "import matplotlib.pyplot as plt\n",
    "colors = (0,0,0)\n",
    "# Plot\n",
    "plt.scatter(test.np.ite, test_ite,  c=colors, alpha=0.5)\n",
    "plt.title('Scatter of treatment effects')\n",
    "plt.xlabel('real treatment effect')\n",
    "plt.ylabel('estimated treatment effect')\n",
    "plt.show()"
   ]
  },
  {
   "cell_type": "markdown",
   "metadata": {
    "id": "JnFLlHMKLOj1"
   },
   "source": [
    "## 1.7 Neural Network"
   ]
  },
  {
   "cell_type": "code",
   "execution_count": 32,
   "metadata": {
    "id": "QXE4Usi1LOj2"
   },
   "outputs": [],
   "source": [
    "# Importing the relevant SLearner module\n",
    "\n",
    "from justcause.learners import DragonNet\n",
    "\n",
    "\n",
    "#Defining the S-Learner function that returns the ITE\n",
    "\n",
    "def dragon_net(train, test, model):\n",
    "    \"\"\" \"\"\"\n",
    "    train_X, train_t, train_y = train.np.X, train.np.t, train.np.y\n",
    "    test_X, test_t, test_y = test.np.X, test.np.t, test.np.y\n",
    "\n",
    "    dragonnet = model\n",
    "    dragonnet.fit(train_X, train_t, train_y)\n",
    "    return (\n",
    "        dragonnet.predict_ite(train_X, train_t, train_y),\n",
    "        dragonnet.predict_ite(test_X, test_t, test_y)\n",
    "    )\n"
   ]
  },
  {
   "cell_type": "code",
   "execution_count": null,
   "metadata": {
    "id": "UeJ5_9NBLOj5"
   },
   "outputs": [],
   "source": [
    "random_state = 1\n",
    "\n",
    "\n",
    "dragonnet_ = DragonNet()\n",
    "\n",
    "\n",
    "for rep in replications:\n",
    "\n",
    "    train, test = train_test_split(\n",
    "        rep, train_size=train_size, random_state=random_state\n",
    "    )\n",
    "\n",
    "    train_ite, test_ite = dragon_net(train, test, dragonnet_)\n",
    "\n",
    "    train_scores.append(calc_scores(train[Col.ite], train_ite, metrics))\n",
    "    test_scores.append(calc_scores(test[Col.ite], test_ite, metrics))\n",
    "\n",
    "train_result, test_result = summarize_scores(train_scores), summarize_scores(test_scores)\n",
    "train_result.update({'method': 'Dragonnet', 'train': True})\n",
    "test_result.update({'method': 'Dragonnet', 'train': False})"
   ]
  },
  {
   "cell_type": "code",
   "execution_count": null,
   "metadata": {
    "colab": {
     "base_uri": "https://localhost:8080/",
     "height": 112
    },
    "id": "32zLJ4yfLOj8",
    "outputId": "be0444a0-e59f-41a0-85c2-d3fdedee0643",
    "scrolled": false
   },
   "outputs": [
    {
     "data": {
      "text/html": [
       "<div>\n",
       "<style scoped>\n",
       "    .dataframe tbody tr th:only-of-type {\n",
       "        vertical-align: middle;\n",
       "    }\n",
       "\n",
       "    .dataframe tbody tr th {\n",
       "        vertical-align: top;\n",
       "    }\n",
       "\n",
       "    .dataframe thead th {\n",
       "        text-align: right;\n",
       "    }\n",
       "</style>\n",
       "<table border=\"1\" class=\"dataframe\">\n",
       "  <thead>\n",
       "    <tr style=\"text-align: right;\">\n",
       "      <th></th>\n",
       "      <th>pehe_score-mean</th>\n",
       "      <th>pehe_score-median</th>\n",
       "      <th>pehe_score-std</th>\n",
       "      <th>mean_absolute-mean</th>\n",
       "      <th>mean_absolute-median</th>\n",
       "      <th>mean_absolute-std</th>\n",
       "      <th>method</th>\n",
       "      <th>train</th>\n",
       "    </tr>\n",
       "  </thead>\n",
       "  <tbody>\n",
       "    <tr>\n",
       "      <th>0</th>\n",
       "      <td>2.801530</td>\n",
       "      <td>1.118610</td>\n",
       "      <td>4.712027</td>\n",
       "      <td>0.790784</td>\n",
       "      <td>0.354236</td>\n",
       "      <td>1.558654</td>\n",
       "      <td>Dragonnet</td>\n",
       "      <td>True</td>\n",
       "    </tr>\n",
       "    <tr>\n",
       "      <th>1</th>\n",
       "      <td>2.913926</td>\n",
       "      <td>1.077568</td>\n",
       "      <td>4.699833</td>\n",
       "      <td>0.867828</td>\n",
       "      <td>0.338806</td>\n",
       "      <td>1.922767</td>\n",
       "      <td>Dragonnet</td>\n",
       "      <td>False</td>\n",
       "    </tr>\n",
       "  </tbody>\n",
       "</table>\n",
       "</div>"
      ],
      "text/plain": [
       "   pehe_score-mean  pehe_score-median  ...     method  train\n",
       "0         2.801530           1.118610  ...  Dragonnet   True\n",
       "1         2.913926           1.077568  ...  Dragonnet  False\n",
       "\n",
       "[2 rows x 8 columns]"
      ]
     },
     "execution_count": 37,
     "metadata": {},
     "output_type": "execute_result"
    }
   ],
   "source": [
    "df_dragonnet=pd.DataFrame([train_result, test_result])\n",
    "df_dragonnet"
   ]
  },
  {
   "cell_type": "markdown",
   "metadata": {
    "id": "imeaA1mMLOkD"
   },
   "source": [
    "### 1.7.1 Neura Network Visualization"
   ]
  },
  {
   "cell_type": "code",
   "execution_count": null,
   "metadata": {
    "colab": {
     "base_uri": "https://localhost:8080/"
    },
    "id": "i9IhdaTnLOkF",
    "outputId": "171792b8-5199-47f6-b506-caed7d88f3ab"
   },
   "outputs": [
    {
     "name": "stderr",
     "output_type": "stream",
     "text": [
      "/usr/local/lib/python3.7/dist-packages/keras/optimizer_v2/adam.py:105: UserWarning: The `lr` argument is deprecated, use `learning_rate` instead.\n",
      "  super(Adam, self).__init__(name, **kwargs)\n"
     ]
    },
    {
     "name": "stdout",
     "output_type": "stream",
     "text": [
      "Epoch 1/50\n",
      "2/2 [==============================] - 2s 423ms/step - loss: 13908.1904 - regression_loss: 3770.7336 - val_loss: 1486.6659 - val_regression_loss: 725.1031 - lr: 0.0010\n",
      "Epoch 2/50\n",
      "2/2 [==============================] - 0s 42ms/step - loss: 9976.8965 - regression_loss: 2580.2891 - val_loss: 972.0479 - val_regression_loss: 463.5086 - lr: 0.0010\n",
      "Epoch 3/50\n",
      "2/2 [==============================] - 0s 32ms/step - loss: 6147.6680 - regression_loss: 1541.3311 - val_loss: 551.2032 - val_regression_loss: 246.3246 - lr: 0.0010\n",
      "Epoch 4/50\n",
      "2/2 [==============================] - 0s 33ms/step - loss: 3463.0161 - regression_loss: 815.0209 - val_loss: 393.7396 - val_regression_loss: 165.2733 - lr: 0.0010\n",
      "Epoch 5/50\n",
      "2/2 [==============================] - 0s 39ms/step - loss: 3102.0378 - regression_loss: 696.0798 - val_loss: 320.4322 - val_regression_loss: 135.4087 - lr: 0.0010\n",
      "Epoch 6/50\n",
      "2/2 [==============================] - 0s 34ms/step - loss: 2607.4778 - regression_loss: 603.6948 - val_loss: 371.5320 - val_regression_loss: 169.3151 - lr: 0.0010\n",
      "Epoch 7/50\n",
      "2/2 [==============================] - 0s 34ms/step - loss: 2532.9202 - regression_loss: 620.6226 - val_loss: 436.9387 - val_regression_loss: 205.5802 - lr: 0.0010\n",
      "Epoch 8/50\n",
      "2/2 [==============================] - 0s 36ms/step - loss: 2655.8213 - regression_loss: 662.5200 - val_loss: 378.9963 - val_regression_loss: 175.3858 - lr: 0.0010\n",
      "Epoch 9/50\n",
      "2/2 [==============================] - 0s 32ms/step - loss: 2220.7659 - regression_loss: 542.9164 - val_loss: 289.3967 - val_regression_loss: 127.6357 - lr: 0.0010\n",
      "Epoch 10/50\n",
      "2/2 [==============================] - 0s 31ms/step - loss: 1771.1075 - regression_loss: 415.1552 - val_loss: 252.2231 - val_regression_loss: 106.1824 - lr: 0.0010\n",
      "Epoch 11/50\n",
      "2/2 [==============================] - 0s 38ms/step - loss: 1781.4664 - regression_loss: 402.9470 - val_loss: 261.3042 - val_regression_loss: 109.2795 - lr: 0.0010\n",
      "Epoch 12/50\n",
      "2/2 [==============================] - 0s 32ms/step - loss: 1959.9830 - regression_loss: 446.8247 - val_loss: 261.5222 - val_regression_loss: 109.8069 - lr: 0.0010\n",
      "Epoch 13/50\n",
      "2/2 [==============================] - 0s 35ms/step - loss: 1883.8569 - regression_loss: 427.6644 - val_loss: 259.8815 - val_regression_loss: 110.6165 - lr: 0.0010\n",
      "Epoch 14/50\n",
      "2/2 [==============================] - 0s 32ms/step - loss: 1672.9137 - regression_loss: 382.1220 - val_loss: 271.8235 - val_regression_loss: 118.5076 - lr: 0.0010\n",
      "Epoch 15/50\n",
      "2/2 [==============================] - 0s 37ms/step - loss: 1667.3473 - regression_loss: 375.0317 - val_loss: 282.3191 - val_regression_loss: 125.3888 - lr: 0.0010\n",
      "Epoch 16/50\n",
      "2/2 [==============================] - 0s 34ms/step - loss: 1640.5692 - regression_loss: 385.7631 - val_loss: 279.4052 - val_regression_loss: 125.0548 - lr: 0.0010\n",
      "Epoch 17/50\n",
      "2/2 [==============================] - 0s 34ms/step - loss: 1631.3467 - regression_loss: 388.4038 - val_loss: 265.1899 - val_regression_loss: 118.3302 - lr: 0.0010\n",
      "Epoch 18/50\n",
      "2/2 [==============================] - 0s 39ms/step - loss: 1634.0547 - regression_loss: 381.0259 - val_loss: 248.0898 - val_regression_loss: 109.3354 - lr: 0.0010\n",
      "Epoch 19/50\n",
      "2/2 [==============================] - 0s 32ms/step - loss: 1548.9437 - regression_loss: 366.4975 - val_loss: 235.2136 - val_regression_loss: 101.8672 - lr: 0.0010\n",
      "Epoch 20/50\n",
      "2/2 [==============================] - 0s 32ms/step - loss: 1526.1307 - regression_loss: 350.7752 - val_loss: 230.5018 - val_regression_loss: 98.3078 - lr: 0.0010\n",
      "Epoch 21/50\n",
      "2/2 [==============================] - 0s 31ms/step - loss: 1455.1615 - regression_loss: 336.4662 - val_loss: 235.2807 - val_regression_loss: 99.9361 - lr: 0.0010\n",
      "Epoch 22/50\n",
      "2/2 [==============================] - 0s 32ms/step - loss: 1455.6160 - regression_loss: 330.5955 - val_loss: 242.0567 - val_regression_loss: 103.1707 - lr: 0.0010\n",
      "Epoch 23/50\n",
      "2/2 [==============================] - 0s 32ms/step - loss: 1471.0508 - regression_loss: 331.0272 - val_loss: 243.0094 - val_regression_loss: 104.0806 - lr: 0.0010\n",
      "Epoch 24/50\n",
      "2/2 [==============================] - 0s 32ms/step - loss: 1448.9871 - regression_loss: 327.6531 - val_loss: 237.2857 - val_regression_loss: 101.9047 - lr: 0.0010\n",
      "Epoch 25/50\n",
      "2/2 [==============================] - 0s 49ms/step - loss: 1380.5720 - regression_loss: 322.0078 - val_loss: 232.4167 - val_regression_loss: 100.2130 - lr: 0.0010\n",
      "Epoch 26/50\n",
      "2/2 [==============================] - 0s 33ms/step - loss: 1409.2859 - regression_loss: 322.0530 - val_loss: 230.3249 - val_regression_loss: 99.6952 - lr: 0.0010\n",
      "Epoch 27/50\n",
      "2/2 [==============================] - 0s 34ms/step - loss: 1403.7268 - regression_loss: 323.1205 - val_loss: 230.5885 - val_regression_loss: 99.9603 - lr: 0.0010\n",
      "Epoch 28/50\n",
      "2/2 [==============================] - 0s 36ms/step - loss: 1386.9938 - regression_loss: 320.1875 - val_loss: 232.2831 - val_regression_loss: 100.5933 - lr: 0.0010\n",
      "Epoch 29/50\n",
      "2/2 [==============================] - 0s 32ms/step - loss: 1330.8210 - regression_loss: 315.8635 - val_loss: 232.7162 - val_regression_loss: 100.3572 - lr: 0.0010\n",
      "Epoch 30/50\n",
      "2/2 [==============================] - 0s 32ms/step - loss: 1377.2228 - regression_loss: 311.4906 - val_loss: 227.3722 - val_regression_loss: 97.1978 - lr: 0.0010\n",
      "Epoch 31/50\n",
      "2/2 [==============================] - 0s 38ms/step - loss: 1342.8738 - regression_loss: 306.1451 - val_loss: 221.9457 - val_regression_loss: 94.2380 - lr: 0.0010\n",
      "Epoch 32/50\n",
      "2/2 [==============================] - 0s 34ms/step - loss: 1337.6012 - regression_loss: 302.7230 - val_loss: 218.9603 - val_regression_loss: 92.8834 - lr: 0.0010\n",
      "Epoch 33/50\n",
      "2/2 [==============================] - 0s 32ms/step - loss: 1335.4692 - regression_loss: 301.1809 - val_loss: 220.0330 - val_regression_loss: 93.8453 - lr: 0.0010\n",
      "Epoch 34/50\n",
      "1/2 [==============>...............] - ETA: 0s - loss: 1412.0046 - regression_loss: 585.7925\n",
      "Epoch 00034: ReduceLROnPlateau reducing learning rate to 0.0005000000237487257.\n",
      "2/2 [==============================] - 0s 34ms/step - loss: 1348.3119 - regression_loss: 299.1296 - val_loss: 220.7276 - val_regression_loss: 94.6180 - lr: 0.0010\n",
      "Epoch 35/50\n",
      "2/2 [==============================] - 0s 32ms/step - loss: 1327.8254 - regression_loss: 298.0578 - val_loss: 220.3697 - val_regression_loss: 94.5881 - lr: 5.0000e-04\n",
      "Epoch 36/50\n",
      "2/2 [==============================] - 0s 32ms/step - loss: 1266.7856 - regression_loss: 297.5152 - val_loss: 218.8862 - val_regression_loss: 93.9002 - lr: 5.0000e-04\n",
      "Epoch 37/50\n",
      "2/2 [==============================] - 0s 35ms/step - loss: 1312.8970 - regression_loss: 295.8707 - val_loss: 216.8454 - val_regression_loss: 92.8577 - lr: 5.0000e-04\n",
      "Epoch 38/50\n",
      "2/2 [==============================] - 0s 36ms/step - loss: 1300.6847 - regression_loss: 294.1608 - val_loss: 215.1554 - val_regression_loss: 91.9443 - lr: 5.0000e-04\n",
      "Epoch 39/50\n",
      "2/2 [==============================] - 0s 35ms/step - loss: 1268.0809 - regression_loss: 292.2880 - val_loss: 214.0777 - val_regression_loss: 91.3270 - lr: 5.0000e-04\n",
      "Epoch 40/50\n",
      "2/2 [==============================] - 0s 31ms/step - loss: 1299.4216 - regression_loss: 290.4453 - val_loss: 213.2103 - val_regression_loss: 90.8394 - lr: 5.0000e-04\n",
      "Epoch 41/50\n",
      "1/2 [==============>...............] - ETA: 0s - loss: 1346.9841 - regression_loss: 554.0145\n",
      "Epoch 00041: ReduceLROnPlateau reducing learning rate to 0.0002500000118743628.\n",
      "2/2 [==============================] - 0s 32ms/step - loss: 1287.1624 - regression_loss: 288.6320 - val_loss: 213.2005 - val_regression_loss: 90.7988 - lr: 5.0000e-04\n",
      "Epoch 42/50\n",
      "2/2 [==============================] - 0s 32ms/step - loss: 1266.6556 - regression_loss: 286.7938 - val_loss: 213.0720 - val_regression_loss: 90.7211 - lr: 2.5000e-04\n",
      "Epoch 43/50\n",
      "2/2 [==============================] - 0s 54ms/step - loss: 1289.5656 - regression_loss: 285.8594 - val_loss: 213.0981 - val_regression_loss: 90.7536 - lr: 2.5000e-04\n",
      "Epoch 44/50\n",
      "2/2 [==============================] - 0s 35ms/step - loss: 1268.5824 - regression_loss: 285.1571 - val_loss: 213.0900 - val_regression_loss: 90.7904 - lr: 2.5000e-04\n",
      "Epoch 45/50\n",
      "2/2 [==============================] - 0s 36ms/step - loss: 1270.5146 - regression_loss: 284.4247 - val_loss: 212.8005 - val_regression_loss: 90.6853 - lr: 2.5000e-04\n",
      "Epoch 46/50\n",
      "2/2 [==============================] - 0s 32ms/step - loss: 1258.9484 - regression_loss: 283.7092 - val_loss: 212.4717 - val_regression_loss: 90.5690 - lr: 2.5000e-04\n",
      "Epoch 47/50\n",
      "2/2 [==============================] - 0s 33ms/step - loss: 1265.2549 - regression_loss: 282.9059 - val_loss: 211.9669 - val_regression_loss: 90.3430 - lr: 2.5000e-04\n",
      "Epoch 48/50\n",
      "2/2 [==============================] - 0s 33ms/step - loss: 1228.6848 - regression_loss: 282.0470 - val_loss: 211.4201 - val_regression_loss: 90.0973 - lr: 2.5000e-04\n",
      "Epoch 49/50\n",
      "2/2 [==============================] - 0s 38ms/step - loss: 1228.4332 - regression_loss: 281.2623 - val_loss: 210.8083 - val_regression_loss: 89.7940 - lr: 2.5000e-04\n",
      "Epoch 50/50\n",
      "2/2 [==============================] - 0s 41ms/step - loss: 1249.0181 - regression_loss: 280.2615 - val_loss: 210.0597 - val_regression_loss: 89.4298 - lr: 2.5000e-04\n",
      "***************************** elapsed_time is:  6.783117055892944\n"
     ]
    }
   ],
   "source": [
    "random_state = 1\n",
    "\n",
    "\n",
    "train, test = train_test_split(\n",
    "        replications[n], train_size=train_size, random_state=random_state\n",
    "    )\n",
    "\n",
    "# REPLACE this with the function you implemented and want to evaluate\n",
    "train_ite, test_ite = dragon_net(train, test, dragonnet_)\n",
    "\n",
    "# Calculate the scores and append them to a dataframe\n",
    "train_scores.append(calc_scores(train[Col.ite], train_ite, metrics))\n",
    "test_scores.append(calc_scores(test[Col.ite], test_ite, metrics))\n",
    "\n",
    "# Summarize the scores and save them in a dataframe\n",
    "train_result, test_result = summarize_scores(train_scores), summarize_scores(test_scores)\n",
    "train_result.update({'method': 'Dragonnet', 'train': True})\n",
    "test_result.update({'method': 'Dragonnet', 'train': False})"
   ]
  },
  {
   "cell_type": "code",
   "execution_count": null,
   "metadata": {
    "colab": {
     "base_uri": "https://localhost:8080/",
     "height": 333
    },
    "id": "VvttPAc8LOkJ",
    "outputId": "4afa1bd6-5136-4c80-85cd-5accdbb3c7f6"
   },
   "outputs": [
    {
     "name": "stderr",
     "output_type": "stream",
     "text": [
      "*c* argument looks like a single numeric RGB or RGBA sequence, which should be avoided as value-mapping will have precedence in case its length matches with *x* & *y*.  Please use the *color* keyword-argument or provide a 2-D array with a single row if you intend to specify the same RGB or RGBA value for all points.\n"
     ]
    },
    {
     "data": {
      "image/png": "[encoded data removed]",
      "text/plain": [
       "<Figure size 432x288 with 1 Axes>"
      ]
     },
     "metadata": {
      "needs_background": "light"
     },
     "output_type": "display_data"
    }
   ],
   "source": [
    "import matplotlib.pyplot as plt\n",
    "colors = (0,0,0)\n",
    "# Plot\n",
    "plt.scatter(test.np.ite, test_ite,  c=colors, alpha=0.5)\n",
    "plt.title('Scatter of treatment effects')\n",
    "plt.xlabel('real treatment effect')\n",
    "plt.ylabel('estimated treatment effect')\n",
    "plt.show()"
   ]
  },
  {
   "cell_type": "markdown",
   "metadata": {
    "id": "D09tYZt9LOkO"
   },
   "source": [
    "## 1.8 Comparison of the methods"
   ]
  },
  {
   "cell_type": "code",
   "execution_count": null,
   "metadata": {
    "colab": {
     "base_uri": "https://localhost:8080/",
     "height": 488
    },
    "id": "pti3CRzkLOkO",
    "outputId": "9986ac2a-e94a-40cb-c56e-226d9543e59c"
   },
   "outputs": [
    {
     "data": {
      "text/html": [
       "<div>\n",
       "<style scoped>\n",
       "    .dataframe tbody tr th:only-of-type {\n",
       "        vertical-align: middle;\n",
       "    }\n",
       "\n",
       "    .dataframe tbody tr th {\n",
       "        vertical-align: top;\n",
       "    }\n",
       "\n",
       "    .dataframe thead th {\n",
       "        text-align: right;\n",
       "    }\n",
       "</style>\n",
       "<table border=\"1\" class=\"dataframe\">\n",
       "  <thead>\n",
       "    <tr style=\"text-align: right;\">\n",
       "      <th></th>\n",
       "      <th>pehe_score-mean</th>\n",
       "      <th>pehe_score-median</th>\n",
       "      <th>pehe_score-std</th>\n",
       "      <th>mean_absolute-mean</th>\n",
       "      <th>mean_absolute-median</th>\n",
       "      <th>mean_absolute-std</th>\n",
       "      <th>method</th>\n",
       "      <th>train</th>\n",
       "    </tr>\n",
       "  </thead>\n",
       "  <tbody>\n",
       "    <tr>\n",
       "      <th>0</th>\n",
       "      <td>5.633660</td>\n",
       "      <td>2.623297</td>\n",
       "      <td>8.362125</td>\n",
       "      <td>0.732443</td>\n",
       "      <td>0.238185</td>\n",
       "      <td>1.493276</td>\n",
       "      <td>S-Learner LR</td>\n",
       "      <td>True</td>\n",
       "    </tr>\n",
       "    <tr>\n",
       "      <th>1</th>\n",
       "      <td>5.625971</td>\n",
       "      <td>2.635993</td>\n",
       "      <td>8.213626</td>\n",
       "      <td>1.292668</td>\n",
       "      <td>0.396246</td>\n",
       "      <td>2.474603</td>\n",
       "      <td>S-Learner LR</td>\n",
       "      <td>False</td>\n",
       "    </tr>\n",
       "    <tr>\n",
       "      <th>2</th>\n",
       "      <td>5.595322</td>\n",
       "      <td>2.537818</td>\n",
       "      <td>8.244302</td>\n",
       "      <td>0.412006</td>\n",
       "      <td>0.284332</td>\n",
       "      <td>0.457697</td>\n",
       "      <td>PSW</td>\n",
       "      <td>True</td>\n",
       "    </tr>\n",
       "    <tr>\n",
       "      <th>3</th>\n",
       "      <td>6.837997</td>\n",
       "      <td>3.484394</td>\n",
       "      <td>8.323623</td>\n",
       "      <td>3.783440</td>\n",
       "      <td>2.649187</td>\n",
       "      <td>3.225824</td>\n",
       "      <td>PSW</td>\n",
       "      <td>False</td>\n",
       "    </tr>\n",
       "    <tr>\n",
       "      <th>4</th>\n",
       "      <td>3.103431</td>\n",
       "      <td>1.042752</td>\n",
       "      <td>4.782134</td>\n",
       "      <td>0.506913</td>\n",
       "      <td>0.130858</td>\n",
       "      <td>0.958173</td>\n",
       "      <td>S-Learner RF</td>\n",
       "      <td>True</td>\n",
       "    </tr>\n",
       "    <tr>\n",
       "      <th>5</th>\n",
       "      <td>3.303456</td>\n",
       "      <td>1.232679</td>\n",
       "      <td>5.152432</td>\n",
       "      <td>0.455873</td>\n",
       "      <td>0.138632</td>\n",
       "      <td>1.055254</td>\n",
       "      <td>S-Learner RF</td>\n",
       "      <td>False</td>\n",
       "    </tr>\n",
       "    <tr>\n",
       "      <th>6</th>\n",
       "      <td>2.276868</td>\n",
       "      <td>1.055409</td>\n",
       "      <td>3.319402</td>\n",
       "      <td>0.149960</td>\n",
       "      <td>0.133955</td>\n",
       "      <td>0.129121</td>\n",
       "      <td>T-Learner LR</td>\n",
       "      <td>True</td>\n",
       "    </tr>\n",
       "    <tr>\n",
       "      <th>7</th>\n",
       "      <td>2.337753</td>\n",
       "      <td>1.122464</td>\n",
       "      <td>3.263915</td>\n",
       "      <td>0.263287</td>\n",
       "      <td>0.195850</td>\n",
       "      <td>0.327846</td>\n",
       "      <td>T-Learner LR</td>\n",
       "      <td>False</td>\n",
       "    </tr>\n",
       "    <tr>\n",
       "      <th>8</th>\n",
       "      <td>1.789142</td>\n",
       "      <td>0.963095</td>\n",
       "      <td>2.264893</td>\n",
       "      <td>0.125687</td>\n",
       "      <td>0.091743</td>\n",
       "      <td>0.126149</td>\n",
       "      <td>T-Learner RF</td>\n",
       "      <td>True</td>\n",
       "    </tr>\n",
       "    <tr>\n",
       "      <th>9</th>\n",
       "      <td>2.508365</td>\n",
       "      <td>1.125215</td>\n",
       "      <td>3.481669</td>\n",
       "      <td>0.212099</td>\n",
       "      <td>0.111783</td>\n",
       "      <td>0.280373</td>\n",
       "      <td>T-Learner RF</td>\n",
       "      <td>False</td>\n",
       "    </tr>\n",
       "    <tr>\n",
       "      <th>10</th>\n",
       "      <td>4.172661</td>\n",
       "      <td>1.921242</td>\n",
       "      <td>6.330031</td>\n",
       "      <td>0.441738</td>\n",
       "      <td>0.198733</td>\n",
       "      <td>0.823171</td>\n",
       "      <td>Causal Forest</td>\n",
       "      <td>True</td>\n",
       "    </tr>\n",
       "    <tr>\n",
       "      <th>11</th>\n",
       "      <td>4.378083</td>\n",
       "      <td>1.797608</td>\n",
       "      <td>6.606150</td>\n",
       "      <td>0.683703</td>\n",
       "      <td>0.233695</td>\n",
       "      <td>1.354973</td>\n",
       "      <td>Causal Forest</td>\n",
       "      <td>False</td>\n",
       "    </tr>\n",
       "    <tr>\n",
       "      <th>12</th>\n",
       "      <td>2.801530</td>\n",
       "      <td>1.118610</td>\n",
       "      <td>4.712027</td>\n",
       "      <td>0.790784</td>\n",
       "      <td>0.354236</td>\n",
       "      <td>1.558654</td>\n",
       "      <td>Dragonnet</td>\n",
       "      <td>True</td>\n",
       "    </tr>\n",
       "    <tr>\n",
       "      <th>13</th>\n",
       "      <td>2.913926</td>\n",
       "      <td>1.077568</td>\n",
       "      <td>4.699833</td>\n",
       "      <td>0.867828</td>\n",
       "      <td>0.338806</td>\n",
       "      <td>1.922767</td>\n",
       "      <td>Dragonnet</td>\n",
       "      <td>False</td>\n",
       "    </tr>\n",
       "  </tbody>\n",
       "</table>\n",
       "</div>"
      ],
      "text/plain": [
       "    pehe_score-mean  pehe_score-median  ...         method  train\n",
       "0          5.633660           2.623297  ...   S-Learner LR   True\n",
       "1          5.625971           2.635993  ...   S-Learner LR  False\n",
       "2          5.595322           2.537818  ...            PSW   True\n",
       "3          6.837997           3.484394  ...            PSW  False\n",
       "4          3.103431           1.042752  ...   S-Learner RF   True\n",
       "5          3.303456           1.232679  ...   S-Learner RF  False\n",
       "6          2.276868           1.055409  ...   T-Learner LR   True\n",
       "7          2.337753           1.122464  ...   T-Learner LR  False\n",
       "8          1.789142           0.963095  ...   T-Learner RF   True\n",
       "9          2.508365           1.125215  ...   T-Learner RF  False\n",
       "10         4.172661           1.921242  ...  Causal Forest   True\n",
       "11         4.378083           1.797608  ...  Causal Forest  False\n",
       "12         2.801530           1.118610  ...      Dragonnet   True\n",
       "13         2.913926           1.077568  ...      Dragonnet  False\n",
       "\n",
       "[14 rows x 8 columns]"
      ]
     },
     "execution_count": 43,
     "metadata": {},
     "output_type": "execute_result"
    }
   ],
   "source": [
    "pd.concat([df_S_learner_LR, df_PSW_LR, df_S_learner_RF, df_T_learner_LR, df_T_learner_RF, df_causal_forest, df_dragonnet ], ignore_index=True)"
   ]
  }
 ],
 "metadata": {
  "colab": {
   "collapsed_sections": [
    "Q0t4K4CfLOit",
    "61rEzJoLLOjF",
    "6x_BryEaLOjd",
    "3ingDVHQLOj0",
    "E6ZW3Us6LOkN"
   ],
   "name": "Assignment_1_handout1_Prashant.ipynb",
   "provenance": []
  },
  "kernelspec": {
   "display_name": "Python 3",
   "language": "python",
   "name": "python3"
  },
  "language_info": {
   "codemirror_mode": {
    "name": "ipython",
    "version": 3
   },
   "file_extension": ".py",
   "mimetype": "text/x-python",
   "name": "python",
   "nbconvert_exporter": "python",
   "pygments_lexer": "ipython3",
   "version": "3.8.11"
  }
 },
 "nbformat": 4,
 "nbformat_minor": 1
}
